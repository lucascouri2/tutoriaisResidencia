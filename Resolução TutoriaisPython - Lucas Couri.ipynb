{
 "cells": [
  {
   "cell_type": "markdown",
   "id": "b5121485",
   "metadata": {},
   "source": [
    "# Lucas Natan Correia Couri - Ciência de dados"
   ]
  },
  {
   "cell_type": "markdown",
   "id": "18215055",
   "metadata": {},
   "source": [
    "## 1) Agora é a sua vez!\n",
    "\n",
    "1) Crie um programa que receba seu nome, idade, telefone, salário e endereço e imprima uma saída desejada. \n",
    "\n",
    "Saída: Eu sou {NOME}, eu tenho {IDADE}, você pode me contatar no número {TELEFONE} ou me visitar no endereço {ENDERECO}. Meu salário atual circula em torno de {SALARIO}.\n"
   ]
  },
  {
   "cell_type": "code",
   "execution_count": 7,
   "id": "69ab7614",
   "metadata": {},
   "outputs": [
    {
     "name": "stdout",
     "output_type": "stream",
     "text": [
      "Digite o nome:Lucas\n",
      "Digite a idade:27\n",
      "Digite o telefone:811234596789\n",
      "Digite o salario:999999\n",
      "Digite o endereço:Rua dois, do lado da rua um\n",
      "Eu sou Lucas, eu tenho 27 anos, você pode me contatar no número 811234596789 ou me visitar no endereço Rua dois, do lado da rua um. Meu salário atual circula em torno de 999999.0 reais\n"
     ]
    }
   ],
   "source": [
    "nome = input(\"Digite o nome:\")\n",
    "idade = int(input(\"Digite a idade:\"))\n",
    "telefone = input(\"Digite o telefone:\")\n",
    "salario = float(input(\"Digite o salario:\"))\n",
    "endereço = input(\"Digite o endereço:\")\n",
    "\n",
    "print(f'Eu sou {nome}, eu tenho {idade} anos, você pode me contatar no número {telefone} ou me visitar no endereço {endereço}. Meu salário atual circula em torno de {salario} reais')\n"
   ]
  },
  {
   "cell_type": "markdown",
   "id": "9529e481",
   "metadata": {},
   "source": [
    "## 2) Agora é sua vez\n",
    "\n",
    "1) Crie um programa que receberá nome, idade, salário e brasileiro. o nome é uma variável String, a idade é uma variável inteira, o salário é uma variável float e brasileiro é uma variável boleana. \n",
    "\n",
    "2) Converta o a variável idade para float e a variável brasileiro para string.\n",
    "\n",
    "3) Verifique o tipo de cada variável e imprima os valores e seus tipos conforme a saída abaixo:\n",
    "\n",
    "**Saída:** \n",
    "- 'a variável idade é do tipo: {TIPO_DA_VARIAVEL}'\n",
    "- 'a variável brasileiro é do tipo: {TIPO_DA_VARIAVEL}'\n",
    "- 'a variável nome é do tipo: {TIPO_DA_VARIAVEL}'"
   ]
  },
  {
   "cell_type": "code",
   "execution_count": 9,
   "id": "e22ebbb9",
   "metadata": {},
   "outputs": [
    {
     "name": "stdout",
     "output_type": "stream",
     "text": [
      "Digite o nome:Lucas\n",
      "Digite a idade:27\n",
      "Digite o salario:99999\n",
      "Digite se é brasileiro:True\n",
      "A variável idade é 27.0 e é do tipo <class 'float'>\n",
      "A variável brasileiro é True e é do tipo <class 'str'>\n",
      "A variável nome é Lucas e é do tipo <class 'str'>\n",
      "A variável salário é 99999.0 e é do tipo <class 'float'>\n"
     ]
    }
   ],
   "source": [
    "#1)\n",
    "nome = str(input(\"Digite o nome:\"))\n",
    "idade = int(input(\"Digite a idade:\"))\n",
    "salario = float(input(\"Digite o salario:\"))\n",
    "brasileiro = input(\"Digite se é brasileiro:\")\n",
    "\n",
    "#2)\n",
    "idade = float(idade)\n",
    "brasileiro = str(brasileiro)\n",
    "\n",
    "#3)\n",
    "print(f'A variável idade é {idade} e é do tipo {type(idade)}')\n",
    "print(f'A variável brasileiro é {brasileiro} e é do tipo {type(brasileiro)}')\n",
    "print(f'A variável nome é {nome} e é do tipo {type(nome)}')\n",
    "print(f'A variável salário é {salario} e é do tipo {type(salario)}')"
   ]
  },
  {
   "cell_type": "markdown",
   "id": "001920c3",
   "metadata": {},
   "source": [
    "## 3) Agora é sua vez!\n",
    "\n",
    "**1) Quanto é 7 elevado na potência 4?**"
   ]
  },
  {
   "cell_type": "code",
   "execution_count": 11,
   "id": "0981de1e",
   "metadata": {},
   "outputs": [
    {
     "name": "stdout",
     "output_type": "stream",
     "text": [
      "2401\n"
     ]
    }
   ],
   "source": [
    "print(7**4)"
   ]
  },
  {
   "cell_type": "markdown",
   "id": "9ce182fd",
   "metadata": {},
   "source": [
    "**2) Qual o resultado da seguinte expressão: (5 + 8) ** 2 * 10 / 2 + 11 - 1** Descreva a ordem que ocorre as operações!"
   ]
  },
  {
   "cell_type": "code",
   "execution_count": 15,
   "id": "184e204c",
   "metadata": {},
   "outputs": [
    {
     "name": "stdout",
     "output_type": "stream",
     "text": [
      "Resultado: 855.0\n",
      "- Primeiro é executada a operação entre parênteses (5+8)=13\n",
      "- Em seguida a exponenciação (13) ** 2 = 169\n",
      "- Em seguida a multiplicação 169 * 10 = 1690\n",
      "- Em seguida a divisão 1690/2 = 845\n",
      "- Em seguida a adição 845+11 = 856\n",
      "- E por fim a subtração 856-1=855.\n"
     ]
    }
   ],
   "source": [
    "print(\"Resultado:\",(5 + 8) ** 2 * 10 / 2 + 11 - 1)\n",
    "\n",
    "\n",
    "print(\"- Primeiro é executada a operação entre parênteses (5+8)=13\")\n",
    "print(\"- Em seguida a exponenciação (13) ** 2 = 169\")\n",
    "print(\"- Em seguida a multiplicação 169 * 10 = 1690\")\n",
    "print(\"- Em seguida a divisão 1690/2 = 845\")\n",
    "print(\"- Em seguida a adição 845+11 = 856\")\n",
    "print(\"- E por fim a subtração 856-1=855.\")"
   ]
  },
  {
   "cell_type": "markdown",
   "id": "f1ebc0f2",
   "metadata": {},
   "source": [
    "**3) Explique o resultado da seguinte expressão: 5 + 8 ** 2 * 10 / 2 + 11 - 1** Descreva a ordem que ocorre as operações!"
   ]
  },
  {
   "cell_type": "code",
   "execution_count": 17,
   "id": "6e272e50",
   "metadata": {},
   "outputs": [
    {
     "name": "stdout",
     "output_type": "stream",
     "text": [
      "Resultado:  335.0\n",
      "- Primeiro é executada a operação entre parênteses (5+8)=13\n",
      "- Em seguida a exponenciação (13) ** 2 = 169\n",
      "- Em seguida a multiplicação 169 * 10 = 1690\n",
      "- Em seguida a divisão 1690/2 = 845\n",
      "- Em seguida a adição 845+11 = 856\n",
      "- E por fim a subtração 856-1=855.\n"
     ]
    }
   ],
   "source": [
    "print(\"Resultado: \", 5 + 8 ** 2 * 10 / 2 + 11 - 1)\n",
    "\n",
    "print(\"- Primeiro é executada a operação entre parênteses (5+8)=13\")\n",
    "print(\"- Em seguida a exponenciação 8 ** 2 = 64\")\n",
    "print(\"- Em seguida a multiplicação 64 * 10 = 640\")\n",
    "print(\"- Em seguida a divisão 1690/2 = 845\")\n",
    "print(\"- Em seguida a adição 845+11 = 856\")\n",
    "print(\"- E por fim a subtração 856-1=855.\")"
   ]
  },
  {
   "cell_type": "markdown",
   "id": "3f02e1e3",
   "metadata": {},
   "source": [
    "**4) Explique o resultado da seguinte expressão: 5 + 8 ** 2 * 10 / 2 + 11 - 1**. Descreva a ordem que ocorre as operações!"
   ]
  },
  {
   "cell_type": "code",
   "execution_count": 19,
   "id": "4cdc3d93",
   "metadata": {},
   "outputs": [
    {
     "name": "stdout",
     "output_type": "stream",
     "text": [
      "Resultado:  335.0\n",
      "- Primeiro é executada a operação entre parênteses (5+8)=13\n",
      "- Em seguida a exponenciação 8 ** 2 = 64\n",
      "- Em seguida a multiplicação 64 * 10 = 640\n",
      "- Em seguida a divisão 1690/2 = 845\n",
      "- Em seguida a adição 845+11 = 856\n",
      "- E por fim a subtração 856-1=855.\n"
     ]
    }
   ],
   "source": [
    "print(\"Resultado: \", 5 + 8 ** 2 * 10 / 2 + 11 - 1)\n",
    "\n",
    "print(\"- Primeiro é executada a operação entre parênteses (5+8)=13\")\n",
    "print(\"- Em seguida a exponenciação 8 ** 2 = 64\")\n",
    "print(\"- Em seguida a multiplicação 64 * 10 = 640\")\n",
    "print(\"- Em seguida a divisão 1690/2 = 845\")\n",
    "print(\"- Em seguida a adição 845+11 = 856\")\n",
    "print(\"- E por fim a subtração 856-1=855.\")"
   ]
  },
  {
   "cell_type": "markdown",
   "id": "93f27d99",
   "metadata": {},
   "source": [
    "## 4) Agora é sua vez!\n",
    "\n",
    "**1) Crie uma lista \"familia\" com o nome dos membros da sua família (pais, filhos, avôs e irmãos)**"
   ]
  },
  {
   "cell_type": "code",
   "execution_count": 27,
   "id": "be414841",
   "metadata": {},
   "outputs": [],
   "source": [
    "familia = [\"Lucas\", \"Natalia\", \"Maria\", \"Antonio\"]"
   ]
  },
  {
   "cell_type": "markdown",
   "id": "a6d83040",
   "metadata": {},
   "source": [
    "**2) Adicione nesta lista os nomes dos seus animais de estimação que você já teve ou tem**"
   ]
  },
  {
   "cell_type": "code",
   "execution_count": 28,
   "id": "80e69070",
   "metadata": {},
   "outputs": [
    {
     "data": {
      "text/plain": [
       "['Lucas', 'Natalia', 'Maria', 'Antonio', 'Punk', 'Apollo']"
      ]
     },
     "execution_count": 28,
     "metadata": {},
     "output_type": "execute_result"
    }
   ],
   "source": [
    "familia.append(\"Punk\")\n",
    "familia.append( \"Apollo\")\n",
    "familia"
   ]
  },
  {
   "cell_type": "markdown",
   "id": "bc545eae",
   "metadata": {},
   "source": [
    "**3) Remova os animais de estimação que você não tem mais**"
   ]
  },
  {
   "cell_type": "code",
   "execution_count": 29,
   "id": "67bb6fcd",
   "metadata": {},
   "outputs": [
    {
     "data": {
      "text/plain": [
       "['Lucas', 'Natalia', 'Maria', 'Antonio']"
      ]
     },
     "execution_count": 29,
     "metadata": {},
     "output_type": "execute_result"
    }
   ],
   "source": [
    "familia.remove(\"Punk\")\n",
    "familia.remove(\"Apollo\")\n",
    "familia"
   ]
  },
  {
   "cell_type": "markdown",
   "id": "7d9a4a96",
   "metadata": {},
   "source": [
    "**4) Crie uma nova lista com nome Amigos e adicione seus principais amigos nesta lista**"
   ]
  },
  {
   "cell_type": "code",
   "execution_count": 30,
   "id": "3deb2624",
   "metadata": {},
   "outputs": [],
   "source": [
    "amigos = [\"Thiago\", \"Pedro\", \"Jose\", \"Matheus\"]"
   ]
  },
  {
   "cell_type": "markdown",
   "id": "789e0b0b",
   "metadata": {},
   "source": [
    "**5) Concatene as listas Familia e Amigos em uma nova lista chamada Networking**"
   ]
  },
  {
   "cell_type": "code",
   "execution_count": 31,
   "id": "184804a6",
   "metadata": {},
   "outputs": [
    {
     "data": {
      "text/plain": [
       "['Lucas', 'Natalia', 'Maria', 'Antonio', 'Thiago', 'Pedro', 'Jose', 'Matheus']"
      ]
     },
     "execution_count": 31,
     "metadata": {},
     "output_type": "execute_result"
    }
   ],
   "source": [
    "networking = familia+amigos\n",
    "networking"
   ]
  },
  {
   "cell_type": "markdown",
   "id": "dfe2c33c",
   "metadata": {},
   "source": [
    "**6) Delete as listas Familia e Amigos**"
   ]
  },
  {
   "cell_type": "code",
   "execution_count": 36,
   "id": "6914ce6e",
   "metadata": {},
   "outputs": [],
   "source": [
    "familia.clear()\n",
    "amigos.clear()"
   ]
  },
  {
   "cell_type": "markdown",
   "id": "6d86a1f5",
   "metadata": {},
   "source": [
    "**8) Ordene a lista Networking por ordem alfabetica a-z**"
   ]
  },
  {
   "cell_type": "code",
   "execution_count": 26,
   "id": "1257cdf7",
   "metadata": {},
   "outputs": [
    {
     "data": {
      "text/plain": [
       "['Antonio', 'Jose', 'Lucas', 'Maria', 'Matheus', 'Natalia', 'Pedro', 'Thiago']"
      ]
     },
     "execution_count": 26,
     "metadata": {},
     "output_type": "execute_result"
    }
   ],
   "source": [
    "networking.sort()\n",
    "networking"
   ]
  },
  {
   "cell_type": "markdown",
   "id": "ee0abfa4",
   "metadata": {},
   "source": [
    "**9) Verifique o tamanho da lista networking**"
   ]
  },
  {
   "cell_type": "code",
   "execution_count": 32,
   "id": "28e2d3a5",
   "metadata": {},
   "outputs": [
    {
     "data": {
      "text/plain": [
       "8"
      ]
     },
     "execution_count": 32,
     "metadata": {},
     "output_type": "execute_result"
    }
   ],
   "source": [
    "len(networking)"
   ]
  },
  {
   "cell_type": "markdown",
   "id": "d128d704",
   "metadata": {},
   "source": [
    "**10) Converta todos os itens da lista para string usando o separador '|'**"
   ]
  },
  {
   "cell_type": "code",
   "execution_count": 33,
   "id": "55b1ce3d",
   "metadata": {},
   "outputs": [
    {
     "data": {
      "text/plain": [
       "'Lucas|Natalia|Maria|Antonio|Thiago|Pedro|Jose|Matheus'"
      ]
     },
     "execution_count": 33,
     "metadata": {},
     "output_type": "execute_result"
    }
   ],
   "source": [
    "'|'.join(networking)"
   ]
  },
  {
   "cell_type": "markdown",
   "id": "4cb1ff23",
   "metadata": {},
   "source": [
    "## 5) Agora é sua vez!"
   ]
  },
  {
   "cell_type": "markdown",
   "id": "9da6f5ce",
   "metadata": {},
   "source": [
    "**1) Crie um dicionário com seu nome, telefone e email. Mostre agora somente as chaves desse dicionário!**"
   ]
  },
  {
   "cell_type": "code",
   "execution_count": 7,
   "id": "0c2e2f95",
   "metadata": {},
   "outputs": [
    {
     "name": "stdout",
     "output_type": "stream",
     "text": [
      "dict_keys(['Nome', 'Telefone', 'email'])\n"
     ]
    }
   ],
   "source": [
    "dici = {\"Nome\":\"Lucas\",\n",
    "        \"Telefone\":\"12345678\",\n",
    "        \"email\":\"lncc2@cin.ufpe.br\"\n",
    "}\n",
    "\n",
    "print(dici.keys())"
   ]
  },
  {
   "cell_type": "markdown",
   "id": "72b2749d",
   "metadata": {},
   "source": [
    "**2) Adicione o seu trabalho neste dicionário**"
   ]
  },
  {
   "cell_type": "code",
   "execution_count": 8,
   "id": "4342b2de",
   "metadata": {},
   "outputs": [
    {
     "data": {
      "text/plain": [
       "{'Nome': 'Lucas',\n",
       " 'Telefone': '12345678',\n",
       " 'email': 'lncc2@cin.ufpe.br',\n",
       " 'Trabalho': 'Cientista de Dados'}"
      ]
     },
     "execution_count": 8,
     "metadata": {},
     "output_type": "execute_result"
    }
   ],
   "source": [
    "dici[\"Trabalho\"]=\"Cientista de Dados\"\n",
    "dici"
   ]
  },
  {
   "cell_type": "markdown",
   "id": "01e642d3",
   "metadata": {},
   "source": [
    "**3) Remova o dado de telefone do seu dicionário**"
   ]
  },
  {
   "cell_type": "code",
   "execution_count": null,
   "id": "152ae09f",
   "metadata": {},
   "outputs": [],
   "source": [
    "dici.pop(\"Trabalho\")"
   ]
  },
  {
   "cell_type": "markdown",
   "id": "c9304718",
   "metadata": {},
   "source": [
    "**4) Crie um lista com 5 nomes e uma lista com 5 telefones. Crie um dicionário a partir d**"
   ]
  },
  {
   "cell_type": "code",
   "execution_count": 9,
   "id": "abc05221",
   "metadata": {},
   "outputs": [
    {
     "data": {
      "text/plain": [
       "{'Lucas': '31264587',\n",
       " 'João': '132645798',\n",
       " 'Pedro': '79864521',\n",
       " 'Matheus': '64531287',\n",
       " 'Gabriel': '31297845'}"
      ]
     },
     "execution_count": 9,
     "metadata": {},
     "output_type": "execute_result"
    }
   ],
   "source": [
    "nomes = [\"Lucas\", \"João\", \"Pedro\", \"Matheus\", \"Gabriel\"]\n",
    "telefones = [\"31264587\", \"132645798\", \"79864521\", \"64531287\", \"31297845\"]\n",
    "\n",
    "dici2 = dict(zip(nomes,telefones))\n",
    "dici2"
   ]
  },
  {
   "cell_type": "markdown",
   "id": "a160a377",
   "metadata": {},
   "source": [
    "## 6) Agora é sua vez\n",
    "\n",
    "**1) Crie uma tupla três diferentes nomes**"
   ]
  },
  {
   "cell_type": "code",
   "execution_count": 10,
   "id": "d2298a62",
   "metadata": {},
   "outputs": [
    {
     "data": {
      "text/plain": [
       "('nome1', 'nome2', 'nome3')"
      ]
     },
     "execution_count": 10,
     "metadata": {},
     "output_type": "execute_result"
    }
   ],
   "source": [
    "tupla = (\"nome1\", \"nome2\", \"nome3\")\n",
    "\n",
    "tupla"
   ]
  },
  {
   "cell_type": "markdown",
   "id": "3f2a1b8d",
   "metadata": {},
   "source": [
    "**2) Modifique o valor o último elemento dessa tupla para zero**"
   ]
  },
  {
   "cell_type": "code",
   "execution_count": 11,
   "id": "b5ec2af0",
   "metadata": {},
   "outputs": [
    {
     "ename": "TypeError",
     "evalue": "'tuple' object does not support item assignment",
     "output_type": "error",
     "traceback": [
      "\u001b[1;31m---------------------------------------------------------------------------\u001b[0m",
      "\u001b[1;31mTypeError\u001b[0m                                 Traceback (most recent call last)",
      "\u001b[1;32m<ipython-input-11-15c315f3f146>\u001b[0m in \u001b[0;36m<module>\u001b[1;34m\u001b[0m\n\u001b[1;32m----> 1\u001b[1;33m \u001b[0mtupla\u001b[0m\u001b[1;33m[\u001b[0m\u001b[1;36m2\u001b[0m\u001b[1;33m]\u001b[0m\u001b[1;33m=\u001b[0m\u001b[1;36m0\u001b[0m\u001b[1;33m\u001b[0m\u001b[1;33m\u001b[0m\u001b[0m\n\u001b[0m\u001b[0;32m      2\u001b[0m \u001b[1;31m### Não podemos alterar elementos da tupla\u001b[0m\u001b[1;33m\u001b[0m\u001b[1;33m\u001b[0m\u001b[1;33m\u001b[0m\u001b[0m\n",
      "\u001b[1;31mTypeError\u001b[0m: 'tuple' object does not support item assignment"
     ]
    }
   ],
   "source": [
    "tupla[2]=0\n",
    "### Não podemos alterar elementos da tupla\n",
    "# uma tupla é constante e não permite atualizações de valores."
   ]
  },
  {
   "cell_type": "markdown",
   "id": "f010a87a",
   "metadata": {},
   "source": [
    "## 7) Agora é sua vez\n",
    "\n",
    "**1) Crie um conjunto dos números inteiores até o número 10**"
   ]
  },
  {
   "cell_type": "code",
   "execution_count": 12,
   "id": "3e82faac",
   "metadata": {},
   "outputs": [
    {
     "data": {
      "text/plain": [
       "{1, 2, 3, 4, 5, 6, 7, 8, 9, 10}"
      ]
     },
     "execution_count": 12,
     "metadata": {},
     "output_type": "execute_result"
    }
   ],
   "source": [
    "lista=[1,2,3,4,5,6,7,8,9,10]\n",
    "conjunto = set(lista)\n",
    "conjunto"
   ]
  },
  {
   "cell_type": "markdown",
   "id": "19f4d2d0",
   "metadata": {},
   "source": [
    "**2) Crie um novo conjunto para osnúmeros inteiros pares até o número 10 (2, 4, 6, 8, 10)**"
   ]
  },
  {
   "cell_type": "code",
   "execution_count": 13,
   "id": "b3d25cf6",
   "metadata": {},
   "outputs": [
    {
     "data": {
      "text/plain": [
       "{2, 4, 6, 8, 10}"
      ]
     },
     "execution_count": 13,
     "metadata": {},
     "output_type": "execute_result"
    }
   ],
   "source": [
    "lista2=[2,4,6,8,10]\n",
    "conjunto2 = set(lista2)\n",
    "conjunto2"
   ]
  },
  {
   "cell_type": "markdown",
   "id": "b42c8766",
   "metadata": {},
   "source": [
    "**3) Mostre o resultado da intersseessão, união e diferença entre os dois conjuntos**"
   ]
  },
  {
   "cell_type": "code",
   "execution_count": 15,
   "id": "3fb87ef4",
   "metadata": {},
   "outputs": [
    {
     "data": {
      "text/plain": [
       "{2, 4, 6, 8, 10}"
      ]
     },
     "execution_count": 15,
     "metadata": {},
     "output_type": "execute_result"
    }
   ],
   "source": [
    "conjunto.intersection(conjunto2)"
   ]
  },
  {
   "cell_type": "markdown",
   "id": "26ed3607",
   "metadata": {},
   "source": [
    "## 8) Agora é sua Vez\n",
    "\n",
    "**1) Crie diferentes expressões de verificação usando cada um dos operadores apresentados.**"
   ]
  },
  {
   "cell_type": "code",
   "execution_count": 18,
   "id": "68d6b2d1",
   "metadata": {},
   "outputs": [
    {
     "name": "stdout",
     "output_type": "stream",
     "text": [
      "True\n",
      "False\n",
      "True\n",
      "False\n",
      "True\n",
      "False\n",
      "True\n",
      "False\n",
      "False\n"
     ]
    }
   ],
   "source": [
    "print(5>3)\n",
    "print(5<3)\n",
    "print(5>=5)\n",
    "print(5<=4)\n",
    "print(5==5)\n",
    "print(5!=5)\n",
    "print(\"Teste\" in \"Fazendo Teste\")\n",
    "print(\"Teste\" not in \"Fazendo Teste\")\n",
    "print(5 not in [1,2,3,4,5])"
   ]
  },
  {
   "cell_type": "markdown",
   "id": "91c0fbe0",
   "metadata": {},
   "source": [
    "**2) Verifique se os números 1 e 2 fazem parte do conjunto pares (0,2,4,6,8,10)**"
   ]
  },
  {
   "cell_type": "code",
   "execution_count": 20,
   "id": "22b9f557",
   "metadata": {},
   "outputs": [
    {
     "name": "stdout",
     "output_type": "stream",
     "text": [
      "False\n",
      "False\n",
      "True\n"
     ]
    }
   ],
   "source": [
    "print([1,2] in [0,2,4,6,8,10])\n",
    "print(1 in [0,2,4,6,8,10])\n",
    "print(2 in [0,2,4,6,8,10])\n",
    "\n"
   ]
  },
  {
   "cell_type": "markdown",
   "id": "4918ed2a",
   "metadata": {},
   "source": [
    "## 9) Agora é sua vez\n",
    "\n",
    "**1) qual o retorno da operação: 5 é maior do que 2, 2 é menor do que 3 e 4 é menor do que 12?**"
   ]
  },
  {
   "cell_type": "code",
   "execution_count": 21,
   "id": "b798002d",
   "metadata": {},
   "outputs": [
    {
     "data": {
      "text/plain": [
       "True"
      ]
     },
     "execution_count": 21,
     "metadata": {},
     "output_type": "execute_result"
    }
   ],
   "source": [
    "5>2 and 2<3 and 4<12"
   ]
  },
  {
   "cell_type": "markdown",
   "id": "c843ad53",
   "metadata": {},
   "source": [
    "**2) O que acontece se trocarmos o último and por \"or\". Verifique e explique se o resultado da expressão muda**"
   ]
  },
  {
   "cell_type": "code",
   "execution_count": 23,
   "id": "f7339d54",
   "metadata": {},
   "outputs": [
    {
     "data": {
      "text/plain": [
       "True"
      ]
     },
     "execution_count": 23,
     "metadata": {},
     "output_type": "execute_result"
    }
   ],
   "source": [
    "5>2 and 2<3 or 4<12\n",
    "# O resultado não muda pois todas as operações sao True"
   ]
  },
  {
   "cell_type": "markdown",
   "id": "24f7f3cc",
   "metadata": {},
   "source": [
    "## 10) Agora é sua vez\n",
    "\n",
    "**1) Crie um programa que irá receber uma variável e irá fornecer uma saída. Imprima impar se a variável for impar e par se a variável for par.**"
   ]
  },
  {
   "cell_type": "code",
   "execution_count": 26,
   "id": "b54e448d",
   "metadata": {},
   "outputs": [
    {
     "name": "stdout",
     "output_type": "stream",
     "text": [
      "Digite um número:5\n",
      "O número é ímpar\n"
     ]
    }
   ],
   "source": [
    "n = int(input(\"Digite um número:\"))\n",
    "\n",
    "if n%2==0:\n",
    "    print(\"O número é par\")\n",
    "else:\n",
    "    print(\"O número é ímpar\")"
   ]
  },
  {
   "cell_type": "markdown",
   "id": "2e2d159b",
   "metadata": {},
   "source": [
    "**2) Crie um programa que irá receber uma idade e irá fornecer uma saída. Se a idade for menor do que 12, imprima \"criança\", se a idade for menor do que 18 e maior do que 12, imprima \"adolescente\", se aidade for maior do que 18 e menor do que 60, imprima \"adulto\", senão imprima \"idoso\"**"
   ]
  },
  {
   "cell_type": "code",
   "execution_count": 30,
   "id": "46560f1e",
   "metadata": {},
   "outputs": [
    {
     "name": "stdout",
     "output_type": "stream",
     "text": [
      "Digite a idade:77\n",
      "Idoso\n"
     ]
    }
   ],
   "source": [
    "idade = int(input(\"Digite a idade:\"))\n",
    "\n",
    "if idade<12:\n",
    "    print(\"Criança\")\n",
    "elif (idade<18 and idade>12):\n",
    "    print(\"Adolescente\")\n",
    "elif (idade<60 and idade>18):\n",
    "    print(\"Adulto\")\n",
    "else:\n",
    "    print(\"Idoso\")"
   ]
  },
  {
   "cell_type": "markdown",
   "id": "963e9e48",
   "metadata": {},
   "source": [
    "## 12) Agora é sua vez\n",
    "\n",
    "**1) Faça um programa que peça uma nota, entre zero e dez. Mostre uma mensagem caso o valor seja inválido e continue pedindo até que o usuário informe um valor válido.** Use \"input\" para receber o dado no seu programa"
   ]
  },
  {
   "cell_type": "code",
   "execution_count": 42,
   "id": "733047c3",
   "metadata": {},
   "outputs": [
    {
     "name": "stdout",
     "output_type": "stream",
     "text": [
      "Digite uma nota entre 0 e 10:95\n",
      "Valor inválido, deve ser entre 0 e 10. Informe um valor válido.\n",
      "Digite uma nota entre 0 e 10:5\n"
     ]
    }
   ],
   "source": [
    "nota=-1\n",
    "while (nota<0 or nota>10):\n",
    "    nota = float(input(\"Digite uma nota entre 0 e 10:\"))\n",
    "    if (nota<0 or nota>10):\n",
    "        print(\"Valor inválido, deve ser entre 0 e 10. Informe um valor válido.\")"
   ]
  },
  {
   "cell_type": "markdown",
   "id": "df98fbd3",
   "metadata": {},
   "source": [
    "**2) Faça um programa que leia 5 números e informe o maior número.** "
   ]
  },
  {
   "cell_type": "code",
   "execution_count": 47,
   "id": "688d9cb4",
   "metadata": {},
   "outputs": [
    {
     "name": "stdout",
     "output_type": "stream",
     "text": [
      "Digite um número:0\n",
      "Digite um número:3\n",
      "Digite um número:2\n",
      "Digite um número:1\n",
      "Digite um número:6\n",
      "O maior número digitado foi 6.0\n"
     ]
    }
   ],
   "source": [
    "cont=0\n",
    "while cont<5:\n",
    "    n = float(input(\"Digite um número:\"))\n",
    "    if cont==0:\n",
    "        maior=n #inicializa maior apenas na primeira iteracao\n",
    "    if n>maior:\n",
    "        maior=n\n",
    "    cont=cont+1\n",
    "\n",
    "print(\"O maior número digitado foi\", maior)"
   ]
  },
  {
   "cell_type": "markdown",
   "id": "7d273aa3",
   "metadata": {},
   "source": [
    "**3) Faça um programa que imprima na tela apenas os números ímpares entre 1 e 50**"
   ]
  },
  {
   "cell_type": "code",
   "execution_count": 48,
   "id": "b69bf143",
   "metadata": {},
   "outputs": [
    {
     "name": "stdout",
     "output_type": "stream",
     "text": [
      "1\n",
      "3\n",
      "5\n",
      "7\n",
      "9\n",
      "11\n",
      "13\n",
      "15\n",
      "17\n",
      "19\n",
      "21\n",
      "23\n",
      "25\n",
      "27\n",
      "29\n",
      "31\n",
      "33\n",
      "35\n",
      "37\n",
      "39\n",
      "41\n",
      "43\n",
      "45\n",
      "47\n",
      "49\n"
     ]
    }
   ],
   "source": [
    "for i in range(1,51):\n",
    "    if i%2!=0:\n",
    "        print(i)"
   ]
  },
  {
   "cell_type": "markdown",
   "id": "6a7c2bf5",
   "metadata": {},
   "source": [
    "**4) Faça um programa que imprima a sequência de fibonacci a partir do  n−ésimo termo da sequência**"
   ]
  },
  {
   "cell_type": "code",
   "execution_count": 50,
   "id": "753ac826",
   "metadata": {},
   "outputs": [
    {
     "name": "stdout",
     "output_type": "stream",
     "text": [
      "Digite o N para exibir o N-ésimo valor da sequência de Fibonacci: 9\n",
      "A sequência de Fibonacci é [1, 1, 2, 3, 5, 8, 13, 21, 34]\n"
     ]
    }
   ],
   "source": [
    "N = int(input(\"Digite o N para exibir a sequência de Fibonacci até o N-ésimo valor: \"))\n",
    "\n",
    "listaFibo = [1,1]\n",
    "\n",
    "for i in range(2,N):\n",
    "  atual = listaFibo[i-2]+listaFibo[i-1]\n",
    "  listaFibo.append(atual)\n",
    "\n",
    "print(\"A sequência de Fibonacci é\", listaFibo)\n"
   ]
  },
  {
   "cell_type": "markdown",
   "id": "2e96da8e",
   "metadata": {},
   "source": [
    "**5) Faça um programa que peça para n pessoas a sua idade, ao final o programa devera verificar se a média de idade da turma varia entre 0 e 25,26 e 60 e maior que 60; e então, dizer se a turma é jovem, adulta ou idosa, conforme a média calculada**"
   ]
  },
  {
   "cell_type": "code",
   "execution_count": 56,
   "id": "47ac060b",
   "metadata": {},
   "outputs": [
    {
     "name": "stdout",
     "output_type": "stream",
     "text": [
      "Digite o número de pessoas:3\n",
      "Digite a idade:20\n",
      "Digite a idade:30\n",
      "Digite a idade:40\n",
      "30.0\n",
      "Turma adulta\n"
     ]
    }
   ],
   "source": [
    "n = int(input(\"Digite o número de pessoas:\"))\n",
    "\n",
    "somaIdades = 0\n",
    "for i in range(0,n):\n",
    "    idade = int(input(\"Digite a idade:\"))\n",
    "    somaIdades = somaIdades+idade\n",
    "    \n",
    "mediaIdades = somaIdades/n\n",
    "print(mediaIdades)\n",
    "if mediaIdades>=0 and mediaIdades<=25:\n",
    "    print(\"Turma jovem\")\n",
    "elif mediaIdades>=26 and mediaIdades<=60:\n",
    "    print(\"Turma adulta\")\n",
    "elif mediaIdades>60:\n",
    "    print(\"Turma idosa\")"
   ]
  },
  {
   "cell_type": "markdown",
   "id": "f3f1bf53",
   "metadata": {},
   "source": [
    "## 13) Agora é sua vez\n",
    "\n",
    "**1) Crie uma função que irá receber 3 notas e fornecerá como saída o resultado da média dessas notas**"
   ]
  },
  {
   "cell_type": "code",
   "execution_count": 59,
   "id": "df31f5ef",
   "metadata": {},
   "outputs": [
    {
     "name": "stdout",
     "output_type": "stream",
     "text": [
      "Digite a nota 1:8\n",
      "Digite a nota 2:9\n",
      "Digite a nota 3:10\n",
      "A média das notas é 9.0\n"
     ]
    }
   ],
   "source": [
    "def calculaMedia(n1,n2,n3):\n",
    "    media=(n1+n2+n3)/3\n",
    "    return media\n",
    "\n",
    "nota1 = float(input(\"Digite a nota 1:\"))\n",
    "nota2 = float(input(\"Digite a nota 2:\"))\n",
    "nota3 = float(input(\"Digite a nota 3:\"))\n",
    "\n",
    "mediaNotas = calculaMedia(nota1,nota2,nota3)\n",
    "print(\"A média das notas é\", mediaNotas)"
   ]
  },
  {
   "cell_type": "markdown",
   "id": "da22f5ca",
   "metadata": {},
   "source": [
    "**2) Crie uma função que irá receber um número e a saída é a sequência de fibonnaci  notas e fornecerá como saída o resultado da média dessas notas**"
   ]
  },
  {
   "cell_type": "code",
   "execution_count": null,
   "id": "e5be2480",
   "metadata": {},
   "outputs": [],
   "source": [
    "N = int(input(\"Digite o N para exibir a sequência de Fibonacci até o N-ésimo valor: \"))\n",
    "\n",
    "listaFibo = [1,1]\n",
    "\n",
    "for i in range(2,N):\n",
    "  atual = listaFibo[i-2]+listaFibo[i-1]\n",
    "  listaFibo.append(atual)\n",
    "\n",
    "print(\"A sequência de Fibonacci é\", listaFibo)\n"
   ]
  },
  {
   "cell_type": "markdown",
   "id": "280af9bf",
   "metadata": {},
   "source": [
    "## 14) Agora é sua vez\n",
    "\n",
    "**1) Crie um list comprehension que irá retornar os números ímpares dados uma sequência de 0 até 10**"
   ]
  },
  {
   "cell_type": "code",
   "execution_count": 60,
   "id": "14582681",
   "metadata": {},
   "outputs": [
    {
     "data": {
      "text/plain": [
       "[1, 3, 5, 7, 9]"
      ]
     },
     "execution_count": 60,
     "metadata": {},
     "output_type": "execute_result"
    }
   ],
   "source": [
    "[i for i in [0,1,2,3,4,5,6,7,8,9,10] if i%2!=0]"
   ]
  },
  {
   "cell_type": "markdown",
   "id": "592b398d",
   "metadata": {},
   "source": [
    "**2) Crie um list comprehension que irá retornar os números divisíveis por 2 e por 3 dados uma sequência de 0 até 10**"
   ]
  },
  {
   "cell_type": "code",
   "execution_count": 61,
   "id": "b72dd42c",
   "metadata": {},
   "outputs": [
    {
     "data": {
      "text/plain": [
       "[0, 6]"
      ]
     },
     "execution_count": 61,
     "metadata": {},
     "output_type": "execute_result"
    }
   ],
   "source": [
    "[i for i in [0,1,2,3,4,5,6,7,8,9,10] if (i%2==0 and i%3==0)]"
   ]
  }
 ],
 "metadata": {
  "kernelspec": {
   "display_name": "Python 3",
   "language": "python",
   "name": "python3"
  },
  "language_info": {
   "codemirror_mode": {
    "name": "ipython",
    "version": 3
   },
   "file_extension": ".py",
   "mimetype": "text/x-python",
   "name": "python",
   "nbconvert_exporter": "python",
   "pygments_lexer": "ipython3",
   "version": "3.8.8"
  }
 },
 "nbformat": 4,
 "nbformat_minor": 5
}
